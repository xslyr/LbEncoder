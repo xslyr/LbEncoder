{
 "cells": [
  {
   "cell_type": "code",
   "execution_count": 1,
   "id": "d98859fd",
   "metadata": {},
   "outputs": [],
   "source": [
    "import pandas as pd\n",
    "import numpy as np\n",
    "from lbencoder import LbEncoder\n",
    "\n",
    "from sklearn.preprocessing import LabelEncoder\n",
    "\n",
    "pd.set_option('display.max_columns',None)\n",
    "pd.options.display.max_rows = 100\n",
    "\n",
    "df = pd.read_csv('train.csv')\n",
    "df = df.sort_values('SalePrice',ascending=True)\n",
    "\n",
    "data_sample = df.iloc[:15,:][['Neighborhood','SalePrice']]"
   ]
  },
  {
   "cell_type": "code",
   "execution_count": 2,
   "id": "980528b5",
   "metadata": {},
   "outputs": [
    {
     "data": {
      "text/html": [
       "<div>\n",
       "<style scoped>\n",
       "    .dataframe tbody tr th:only-of-type {\n",
       "        vertical-align: middle;\n",
       "    }\n",
       "\n",
       "    .dataframe tbody tr th {\n",
       "        vertical-align: top;\n",
       "    }\n",
       "\n",
       "    .dataframe thead th {\n",
       "        text-align: right;\n",
       "    }\n",
       "</style>\n",
       "<table border=\"1\" class=\"dataframe\">\n",
       "  <thead>\n",
       "    <tr style=\"text-align: right;\">\n",
       "      <th></th>\n",
       "      <th>LbEncoder(list)</th>\n",
       "      <th>LbEncoder(desc)</th>\n",
       "      <th>LabelEncoder</th>\n",
       "      <th>Neighborhood</th>\n",
       "      <th>SalePrice</th>\n",
       "    </tr>\n",
       "  </thead>\n",
       "  <tbody>\n",
       "    <tr>\n",
       "      <th>495</th>\n",
       "      <td>1</td>\n",
       "      <td>2</td>\n",
       "      <td>2</td>\n",
       "      <td>IDOTRR</td>\n",
       "      <td>34900</td>\n",
       "    </tr>\n",
       "    <tr>\n",
       "      <th>916</th>\n",
       "      <td>1</td>\n",
       "      <td>2</td>\n",
       "      <td>2</td>\n",
       "      <td>IDOTRR</td>\n",
       "      <td>35311</td>\n",
       "    </tr>\n",
       "    <tr>\n",
       "      <th>968</th>\n",
       "      <td>0</td>\n",
       "      <td>1</td>\n",
       "      <td>3</td>\n",
       "      <td>OldTown</td>\n",
       "      <td>37900</td>\n",
       "    </tr>\n",
       "    <tr>\n",
       "      <th>533</th>\n",
       "      <td>3</td>\n",
       "      <td>4</td>\n",
       "      <td>0</td>\n",
       "      <td>BrkSide</td>\n",
       "      <td>39300</td>\n",
       "    </tr>\n",
       "    <tr>\n",
       "      <th>30</th>\n",
       "      <td>1</td>\n",
       "      <td>2</td>\n",
       "      <td>2</td>\n",
       "      <td>IDOTRR</td>\n",
       "      <td>40000</td>\n",
       "    </tr>\n",
       "    <tr>\n",
       "      <th>710</th>\n",
       "      <td>3</td>\n",
       "      <td>4</td>\n",
       "      <td>0</td>\n",
       "      <td>BrkSide</td>\n",
       "      <td>52000</td>\n",
       "    </tr>\n",
       "    <tr>\n",
       "      <th>1337</th>\n",
       "      <td>0</td>\n",
       "      <td>1</td>\n",
       "      <td>3</td>\n",
       "      <td>OldTown</td>\n",
       "      <td>52500</td>\n",
       "    </tr>\n",
       "    <tr>\n",
       "      <th>705</th>\n",
       "      <td>1</td>\n",
       "      <td>2</td>\n",
       "      <td>2</td>\n",
       "      <td>IDOTRR</td>\n",
       "      <td>55000</td>\n",
       "    </tr>\n",
       "    <tr>\n",
       "      <th>1325</th>\n",
       "      <td>1</td>\n",
       "      <td>2</td>\n",
       "      <td>2</td>\n",
       "      <td>IDOTRR</td>\n",
       "      <td>55000</td>\n",
       "    </tr>\n",
       "    <tr>\n",
       "      <th>812</th>\n",
       "      <td>1</td>\n",
       "      <td>2</td>\n",
       "      <td>2</td>\n",
       "      <td>IDOTRR</td>\n",
       "      <td>55993</td>\n",
       "    </tr>\n",
       "    <tr>\n",
       "      <th>1380</th>\n",
       "      <td>2</td>\n",
       "      <td>3</td>\n",
       "      <td>1</td>\n",
       "      <td>Edwards</td>\n",
       "      <td>58500</td>\n",
       "    </tr>\n",
       "    <tr>\n",
       "      <th>410</th>\n",
       "      <td>2</td>\n",
       "      <td>3</td>\n",
       "      <td>1</td>\n",
       "      <td>Edwards</td>\n",
       "      <td>60000</td>\n",
       "    </tr>\n",
       "    <tr>\n",
       "      <th>636</th>\n",
       "      <td>3</td>\n",
       "      <td>4</td>\n",
       "      <td>0</td>\n",
       "      <td>BrkSide</td>\n",
       "      <td>60000</td>\n",
       "    </tr>\n",
       "    <tr>\n",
       "      <th>1100</th>\n",
       "      <td>4</td>\n",
       "      <td>0</td>\n",
       "      <td>4</td>\n",
       "      <td>SWISU</td>\n",
       "      <td>60000</td>\n",
       "    </tr>\n",
       "    <tr>\n",
       "      <th>375</th>\n",
       "      <td>2</td>\n",
       "      <td>3</td>\n",
       "      <td>1</td>\n",
       "      <td>Edwards</td>\n",
       "      <td>61000</td>\n",
       "    </tr>\n",
       "  </tbody>\n",
       "</table>\n",
       "</div>"
      ],
      "text/plain": [
       "      LbEncoder(list)  LbEncoder(desc)  LabelEncoder Neighborhood  SalePrice\n",
       "495                 1                2             2       IDOTRR      34900\n",
       "916                 1                2             2       IDOTRR      35311\n",
       "968                 0                1             3      OldTown      37900\n",
       "533                 3                4             0      BrkSide      39300\n",
       "30                  1                2             2       IDOTRR      40000\n",
       "710                 3                4             0      BrkSide      52000\n",
       "1337                0                1             3      OldTown      52500\n",
       "705                 1                2             2       IDOTRR      55000\n",
       "1325                1                2             2       IDOTRR      55000\n",
       "812                 1                2             2       IDOTRR      55993\n",
       "1380                2                3             1      Edwards      58500\n",
       "410                 2                3             1      Edwards      60000\n",
       "636                 3                4             0      BrkSide      60000\n",
       "1100                4                0             4        SWISU      60000\n",
       "375                 2                3             1      Edwards      61000"
      ]
     },
     "execution_count": 2,
     "metadata": {},
     "output_type": "execute_result"
    }
   ],
   "source": [
    "skl_encoder = LabelEncoder()\n",
    "skl_data = pd.DataFrame(skl_encoder.fit_transform(data_sample.iloc[:,0]), index=data_sample.index,columns=['LabelEncoder'])\n",
    "\n",
    "our_encoder = LbEncoder()\n",
    "\n",
    "our_encoder_desc = pd.DataFrame(our_encoder.fit_transform(data_sample.iloc[:,0],sort_by=('desc')), index=data_sample.index, columns=['LbEncoder(desc)'])\n",
    "desc_labels = our_encoder.labels\n",
    "\n",
    "our_encoder_occur = pd.DataFrame(our_encoder.fit_transform(data_sample.iloc[:,0],sort_by=('occurrence')), index=data_sample.index, columns=['LbEncoder(occur)'])\n",
    "occur_labels = our_encoder.labels\n",
    "\n",
    "_list = ['OldTown', 'IDOTRR', 'Edwards', 'BrkSide','SWISU']\n",
    "our_encoder_occur = pd.DataFrame(our_encoder.fit_transform(data_sample.iloc[:,0],sort_by=(_list)), index=data_sample.index, columns=['LbEncoder(list)'])\n",
    "list_labels = our_encoder.labels\n",
    "\n",
    "pd.concat([our_encoder_occur,our_encoder_desc,skl_data,data_sample], axis=1)\n"
   ]
  },
  {
   "cell_type": "code",
   "execution_count": 3,
   "id": "22d75f0d",
   "metadata": {},
   "outputs": [
    {
     "name": "stdout",
     "output_type": "stream",
     "text": [
      "Labels Ascending: \t['BrkSide', 'Edwards', 'IDOTRR', 'OldTown', 'SWISU']\n",
      "Labels Descending: \t['SWISU', 'OldTown', 'IDOTRR', 'Edwards', 'BrkSide']\n",
      "Labels Occurrences: \t['IDOTRR', 'OldTown', 'BrkSide', 'Edwards', 'SWISU']\n",
      "Labels by List: \t['OldTown', 'IDOTRR', 'Edwards', 'BrkSide', 'SWISU']\n",
      "\n"
     ]
    }
   ],
   "source": [
    "print('Labels Ascending: \\t{}\\nLabels Descending: \\t{}\\nLabels Occurrences: \\t{}\\nLabels by List: \\t{}\\n'\n",
    "      .format(list(skl_encoder.classes_),desc_labels, occur_labels, list_labels))"
   ]
  },
  {
   "cell_type": "code",
   "execution_count": 4,
   "id": "83944059",
   "metadata": {},
   "outputs": [
    {
     "data": {
      "text/plain": [
       "array(['IDOTRR', 'OldTown', 'BrkSide', 'Edwards', 'SWISU'], dtype=object)"
      ]
     },
     "execution_count": 4,
     "metadata": {},
     "output_type": "execute_result"
    }
   ],
   "source": [
    "our_encoder.get_unique(data_sample.iloc[:,0])"
   ]
  },
  {
   "cell_type": "code",
   "execution_count": 5,
   "id": "397d2346",
   "metadata": {},
   "outputs": [
    {
     "data": {
      "text/plain": [
       "['IDOTRR', 'OldTown', 'BrkSide', 'Edwards', 'SWISU']"
      ]
     },
     "execution_count": 5,
     "metadata": {},
     "output_type": "execute_result"
    }
   ],
   "source": [
    "our_encoder.get_current_sort(data_sample.iloc[:,0])"
   ]
  }
 ],
 "metadata": {
  "kernelspec": {
   "display_name": "Python 3 (ipykernel)",
   "language": "python",
   "name": "python3"
  },
  "language_info": {
   "codemirror_mode": {
    "name": "ipython",
    "version": 3
   },
   "file_extension": ".py",
   "mimetype": "text/x-python",
   "name": "python",
   "nbconvert_exporter": "python",
   "pygments_lexer": "ipython3",
   "version": "3.8.10"
  }
 },
 "nbformat": 4,
 "nbformat_minor": 5
}
